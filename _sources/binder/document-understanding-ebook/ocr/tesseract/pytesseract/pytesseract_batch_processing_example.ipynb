{
 "cells": [
  {
   "cell_type": "markdown",
   "id": "f93d1d58-6069-4d71-8062-c3c83902829a",
   "metadata": {},
   "source": [
    "# Pytesseract Batch Processing Example\n",
    "\n",
    "This notebook covers batch processing with pytesseract."
   ]
  },
  {
   "cell_type": "code",
   "execution_count": 1,
   "id": "c62a1bc7-80f5-4077-8d22-fe3677382785",
   "metadata": {},
   "outputs": [],
   "source": [
    "import pytesseract"
   ]
  },
  {
   "cell_type": "markdown",
   "id": "6e8d3c7e-5a8a-49f7-a98b-7d04bd7d6fa7",
   "metadata": {},
   "source": [
    "## Batch File\n",
    "\n",
    "You can process a batch of files by providing a text file with the relative image paths (relative meaning to where the script is running).\n",
    "Here, I am providing a text file with two image paths."
   ]
  },
  {
   "cell_type": "code",
   "execution_count": 2,
   "id": "9b33e6ac-fdce-4233-9b8d-3069d1f8e474",
   "metadata": {},
   "outputs": [
    {
     "name": "stdout",
     "output_type": "stream",
     "text": [
      "../../../binder-datasets/ocr/images/invoice.png\n",
      "../../../binder-datasets/ocr/images/letter.jpg\n"
     ]
    }
   ],
   "source": [
    "batch_file_path = \"../../../../binder-datasets/ocr/batch/images.txt\"\n",
    "with open(batch_file_path) as f:\n",
    "    print(f.read())"
   ]
  },
  {
   "cell_type": "markdown",
   "id": "2e500f14-1015-4bd7-b56d-2f3e004bd420",
   "metadata": {},
   "source": [
    "## Timeouts\n",
    "\n",
    "While this is not required for batch processing, it may be a good idea to add handling to terminate Tesseract if processing is taking too long. Let's try two scenarios, one where we timeout after 1 second and one where we wait 30 seconds to timeout. In this case, 1 second is not enough time to process both images."
   ]
  },
  {
   "cell_type": "code",
   "execution_count": 3,
   "id": "f01f5337-82d1-411b-a569-1d375d3fa286",
   "metadata": {},
   "outputs": [],
   "source": [
    "timeout = 1"
   ]
  },
  {
   "cell_type": "code",
   "execution_count": 4,
   "id": "437bbada-9d50-4cf4-beb6-9b2973dc18c0",
   "metadata": {},
   "outputs": [],
   "source": [
    "try:\n",
    "    print(pytesseract.image_to_string(batch_file_path, timeout=timeout))\n",
    "except RuntimeError as timeout_error:\n",
    "    pass"
   ]
  },
  {
   "cell_type": "code",
   "execution_count": 5,
   "id": "5705b75e-44f8-4096-8a44-fc44df3c1448",
   "metadata": {},
   "outputs": [],
   "source": [
    "timeout = 30"
   ]
  },
  {
   "cell_type": "code",
   "execution_count": 6,
   "id": "d7ca3072-e8ca-4231-a799-7326b0c45ba1",
   "metadata": {},
   "outputs": [],
   "source": [
    "try:\n",
    "    print(pytesseract.image_to_string(batch_file_path, timeout=timeout))\n",
    "except RuntimeError as timeout_error:\n",
    "    pass"
   ]
  }
 ],
 "metadata": {
  "kernelspec": {
   "display_name": "Python 3 (ipykernel)",
   "language": "python",
   "name": "python3"
  },
  "language_info": {
   "codemirror_mode": {
    "name": "ipython",
    "version": 3
   },
   "file_extension": ".py",
   "mimetype": "text/x-python",
   "name": "python",
   "nbconvert_exporter": "python",
   "pygments_lexer": "ipython3",
   "version": "3.10.6"
  }
 },
 "nbformat": 4,
 "nbformat_minor": 5
}
