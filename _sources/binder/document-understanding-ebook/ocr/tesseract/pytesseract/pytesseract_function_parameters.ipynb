{
 "cells": [
  {
   "attachments": {},
   "cell_type": "markdown",
   "id": "572ce156-cf47-45f9-95a1-208858311c60",
   "metadata": {},
   "source": [
    "# Pytesseract | Function Parameters\n",
    "\n",
    "This notebook covers some of the function paramters for pytesseract.\n",
    "\n",
    "Some of the paramters we will cover - directly from the [documentation](https://github.com/madmaze/pytesseract/blob/master/README.rst):\n",
    "\n",
    "* **image** Object or String - either PIL Image, NumPy array or file path of the image to be processed by Tesseract. If you pass object instead of file path, pytesseract will implicitly convert the image to RGB mode.\n",
    "* **lang** String - Tesseract language code string. Defaults to eng if not specified! Example for multiple languages: lang='eng+fra'\n",
    "* **config** String - Any additional custom configuration flags that are not available via the pytesseract function. For example: config='--psm 6'\n",
    "* **nice** Integer - modifies the processor priority for the Tesseract run. Not supported on Windows. Nice adjusts the niceness of unix-like processes.\n",
    "* **output_type** Class attribute - specifies the type of the output, defaults to string. For the full list of all supported types, please check the definition of pytesseract.Output class.\n",
    "* **timeout** Integer or Float - duration in seconds for the OCR processing, after which, pytesseract will terminate and raise RuntimeError.\n",
    "* **pandas_config** Dict - only for the Output.DATAFRAME type. Dictionary with custom arguments for pandas.read_csv. Allows you to customize the output of image_to_data."
   ]
  },
  {
   "cell_type": "code",
   "execution_count": 2,
   "id": "c0dc7d00-5f95-46cb-a248-9ddf98e24318",
   "metadata": {},
   "outputs": [],
   "source": [
    "from PIL import Image\n",
    "import cv2\n",
    "import pytesseract"
   ]
  },
  {
   "attachments": {},
   "cell_type": "markdown",
   "id": "ec94fb78-49b0-42ad-9ee5-b8a9c4a70ad2",
   "metadata": {},
   "source": [
    "## image\n",
    "\n",
    "The **image** parameter can be passed as a PIL (Pillow) Image, NumPy array, or a string representation of the file path to the image.\n",
    "\n",
    "The NumPy array feature is particularly useful if you are working with [OpenCV](https://opencv.org/), as the output type of OpenCV's ```imread()``` is a NumPy array. Another thing to note about OpenCV is that, by default, the image will be read as BRG, while pytesseract processes RBG. From the documentation, pytesseract does try to implicitly convert the image to RGB mode, but you can avoid any doubts by reading in the OpenCV image, then converting it:\n",
    "\n",
    "```python\n",
    "im = cv2.imread(path)                     # reads an image in the BGR format\n",
    "im = cv2.cvtColor(im, cv2.COLOR_BGR2RGB)  # BGR -> RGB\n",
    "```\n",
    "\n",
    "If you're wondering which method to use to read images - it really depends on your use case. \n",
    "\n",
    "OpenCV is primarily focused on computer vision and provides a wide range of algorithms and tools for complex vision tasks, while Pillow is more focused on basic image processing and manipulation. So pick the one that best suits your needs at the time."
   ]
  },
  {
   "attachments": {},
   "cell_type": "markdown",
   "id": "34b1b65e-b1aa-423d-baf4-93813121b232",
   "metadata": {},
   "source": [
    "### Image format support\n",
    "```python\n",
    "SUPPORTED_FORMATS = {\n",
    "    'JPEG',\n",
    "    'JPEG2000',\n",
    "    'PNG',\n",
    "    'PBM',\n",
    "    'PGM',\n",
    "    'PPM',\n",
    "    'TIFF',\n",
    "    'BMP',\n",
    "    'GIF',\n",
    "    'WEBP',\n",
    "}\n",
    "```"
   ]
  },
  {
   "cell_type": "code",
   "execution_count": 48,
   "id": "ab6f2213-7fdf-4801-aff7-229d26b08e6a",
   "metadata": {},
   "outputs": [
    {
     "data": {
      "image/png": "[encoded data removed]",
      "text/plain": [
       "<PIL.PngImagePlugin.PngImageFile image mode=RGBA size=379x71>"
      ]
     },
     "metadata": {},
     "output_type": "display_data"
    }
   ],
   "source": [
    "path = '../../../../binder-datasets/ocr/helloworld/hello_world_english.png'\n",
    "im_pil = Image.open(path)\n",
    "# display the Pillow compatible image (all are the same).\n",
    "display(im_pil)"
   ]
  },
  {
   "attachments": {},
   "cell_type": "markdown",
   "id": "50c1004b-875c-4508-81be-67ae62ef2ef8",
   "metadata": {},
   "source": [
    "### Extracting via file path:"
   ]
  },
  {
   "cell_type": "code",
   "execution_count": 49,
   "id": "2c94b2f1-122a-4228-8932-5542b0192179",
   "metadata": {},
   "outputs": [
    {
     "name": "stdout",
     "output_type": "stream",
     "text": [
      "Hello World!\n",
      "\f\n",
      "\n"
     ]
    }
   ],
   "source": [
    "print(pytesseract.image_to_string(path))"
   ]
  },
  {
   "attachments": {},
   "cell_type": "markdown",
   "id": "db0c32ce-eeb5-4955-a0c2-84ed7651baac",
   "metadata": {},
   "source": [
    "### Extracting via Pillow:"
   ]
  },
  {
   "cell_type": "code",
   "execution_count": 50,
   "id": "c6c30849-57da-4584-aa87-544011ab08a3",
   "metadata": {},
   "outputs": [
    {
     "name": "stdout",
     "output_type": "stream",
     "text": [
      "Hello World!\n",
      "\f\n",
      "\n"
     ]
    }
   ],
   "source": [
    "im_pil = Image.open(path)\n",
    "print(pytesseract.image_to_string(im_pil))"
   ]
  },
  {
   "attachments": {},
   "cell_type": "markdown",
   "id": "b7edc7e6-0303-4d64-9e46-6f4af9f1947b",
   "metadata": {},
   "source": [
    "### Extracting via OpenCV:"
   ]
  },
  {
   "cell_type": "code",
   "execution_count": 51,
   "id": "8d57e360-9971-4def-a1af-e30f5172267d",
   "metadata": {},
   "outputs": [
    {
     "name": "stdout",
     "output_type": "stream",
     "text": [
      "Hello World!\n",
      "\f\n",
      "\n"
     ]
    }
   ],
   "source": [
    "im_cv = cv2.imread(path)\n",
    "print(pytesseract.image_to_string(im_cv))"
   ]
  },
  {
   "attachments": {},
   "cell_type": "markdown",
   "id": "79cd04f5-cd3d-4257-b57a-3de6a854fc95",
   "metadata": {},
   "source": [
    "## lang\n",
    "\n",
    "The **lang** parameter refers to the Tesseract language code and by default, it assumes english (```lang='eng'```). Here is the [complete list of languages supported in different versions of Tesseract](https://tesseract-ocr.github.io/tessdoc/Data-Files-in-different-versions.html)\n",
    "\n",
    "The lang parameter can accept multiple languages too using the ```+``` delimiter. For example, if your image has both English and French you can pass ```lang='eng+fra'```"
   ]
  },
  {
   "attachments": {},
   "cell_type": "markdown",
   "id": "c4e7771f-c312-4bd9-96cb-d229ed5f7c52",
   "metadata": {},
   "source": [
    "If you are unsure of which languages your machine supports, you can print out the supported languages using pytesseract's ```get_languages```."
   ]
  },
  {
   "cell_type": "code",
   "execution_count": 22,
   "id": "ad38d318-bd27-4e57-ab69-1ba44be76245",
   "metadata": {},
   "outputs": [
    {
     "name": "stdout",
     "output_type": "stream",
     "text": [
      "['afr', 'amh', 'ara', 'asm', 'aze', 'aze_cyrl', 'bel', 'ben', 'bod', 'bos', 'bre', 'bul', 'cat', 'ceb', 'ces', 'chi_sim', 'chi_sim_vert', 'chi_tra', 'chi_tra_vert', 'chr', 'cos', 'cym', 'dan', 'deu', 'div', 'dzo', 'ell', 'eng', 'enm', 'epo', 'equ', 'est', 'eus', 'fao', 'fas', 'fil', 'fin', 'fra', 'frk', 'frm', 'fry', 'gla', 'gle', 'glg', 'grc', 'guj', 'hat', 'heb', 'hin', 'hrv', 'hun', 'hye', 'iku', 'ind', 'isl', 'ita', 'ita_old', 'jav', 'jpn', 'jpn_vert', 'kan', 'kat', 'kat_old', 'kaz', 'khm', 'kir', 'kmr', 'kor', 'kor_vert', 'lao', 'lat', 'lav', 'lit', 'ltz', 'mal', 'mar', 'mkd', 'mlt', 'mon', 'mri', 'msa', 'mya', 'nep', 'nld', 'nor', 'oci', 'ori', 'osd', 'pan', 'pol', 'por', 'pus', 'que', 'ron', 'rus', 'san', 'sin', 'slk', 'slv', 'snd', 'spa', 'spa_old', 'sqi', 'srp', 'srp_latn', 'sun', 'swa', 'swe', 'syr', 'tam', 'tat', 'tel', 'tgk', 'tha', 'tir', 'ton', 'tur', 'uig', 'ukr', 'urd', 'uzb', 'uzb_cyrl', 'vie', 'yid', 'yor']\n"
     ]
    }
   ],
   "source": [
    "print(pytesseract.get_languages(config='.'))"
   ]
  },
  {
   "attachments": {},
   "cell_type": "markdown",
   "id": "d10af502-fcd6-4491-bd62-598c14439188",
   "metadata": {},
   "source": [
    "Let's try extracting text from an image with two languages."
   ]
  },
  {
   "cell_type": "code",
   "execution_count": 19,
   "id": "f23c5cc9-bd84-4dc6-981a-4ebca45ebf8c",
   "metadata": {},
   "outputs": [
    {
     "data": {
      "image/png": "[encoded data removed]",
      "text/plain": [
       "<PIL.PngImagePlugin.PngImageFile image mode=RGBA size=582x151>"
      ]
     },
     "metadata": {},
     "output_type": "display_data"
    }
   ],
   "source": [
    "path = '../../../../binder-datasets/ocr/helloworld/hello_world_english_french.png'\n",
    "im = Image.open(path)\n",
    "display(im)"
   ]
  },
  {
   "cell_type": "code",
   "execution_count": 20,
   "id": "053a3266-867d-435d-ad25-e7a00e048db8",
   "metadata": {},
   "outputs": [
    {
     "name": "stdout",
     "output_type": "stream",
     "text": [
      "Hello World!\n",
      "Bonjour le monde!\n",
      "\f\n",
      "\n"
     ]
    }
   ],
   "source": [
    "print(pytesseract.image_to_string(path, lang='eng+fra'))"
   ]
  },
  {
   "attachments": {},
   "cell_type": "markdown",
   "id": "2efaa689-387c-46ca-8089-c7eefb359644",
   "metadata": {},
   "source": [
    "## config"
   ]
  },
  {
   "attachments": {},
   "cell_type": "markdown",
   "id": "3dc0d09a-10a9-46ec-b6d5-14cab3175874",
   "metadata": {},
   "source": [
    "The **config** parameter refers to any additional custom configuration flags not supported directly in pytesseract functions.\n",
    "\n",
    "These flags can refer to page segmentation modes (PSMs), OCR engine modes (OEMs), and configuration variables.\n",
    "\n",
    "Page segmentation mode in Tesseract refers to the process of dividing an image containing text into individual text segments or regions. By specifying the desired page segmentation mode, you can instruct Tesseract on how to analyze the image and extract the text accurately. Experimentation with different modes may be necessary to achieve the best results for your specific use case.\n",
    "```sh\n",
    "tesseract --help-psm\n",
    "  0    Orientation and script detection (OSD) only.\n",
    "  1    Automatic page segmentation with OSD.\n",
    "  2    Automatic page segmentation, but no OSD, or OCR. (not implemented)\n",
    "  3    Fully automatic page segmentation, but no OSD. (Default)\n",
    "  4    Assume a single column of text of variable sizes.\n",
    "  5    Assume a single uniform block of vertically aligned text.\n",
    "  6    Assume a single uniform block of text.\n",
    "  7    Treat the image as a single text line.\n",
    "  8    Treat the image as a single word.\n",
    "  9    Treat the image as a single word in a circle.\n",
    " 10    Treat the image as a single character.\n",
    " 11    Sparse text. Find as much text as possible in no particular order.\n",
    " 12    Sparse text with OSD.\n",
    " 13    Raw line. Treat the image as a single text line,\n",
    "       bypassing hacks that are Tesseract-specific.\n",
    "```\n",
    "\n",
    "The OCR engine mode in Tesseract determines the underlying recognition algorithms and models used for text extraction. It's important to choose the appropriate mode based on the specific requirements of your OCR application, such as the language, document type, and desired accuracy.\n",
    "```sh\n",
    "tesseract --help-oem\n",
    "  0    Legacy engine only.\n",
    "  1    Neural nets LSTM engine only.\n",
    "  2    Legacy + LSTM engines.\n",
    "  3    Default, based on what is available.\n",
    "```\n",
    "\n",
    "There are over 600+ configuration variables (```-c``` flag). You can find them via:\n",
    "```sh\n",
    "tesseract --print-parameters\n",
    "```\n",
    "Here is a list in a handy table:\n",
    "[List of all Tesseract configuration variables](https://gist.github.com/dhorvay/bf2708f45bf5a433933fbac7585a2f84)"
   ]
  },
  {
   "attachments": {},
   "cell_type": "markdown",
   "id": "6d04344e-d924-4e5c-af76-a6844bb70b22",
   "metadata": {},
   "source": [
    "Let's try a configuration where we deny any special characters using the ```-c tessedit_char_whitelist``` configuration variable. \n",
    "Tesseract does not support regex for this unfortunately, so we need pass it all lower and upper case english characters:\n",
    "```txt\n",
    "abcdefghijklmnopqrstuvwxyzABCDEFGHIJKLMNOPQRSTUVWXYZ\n",
    "```\n",
    "\n",
    "We also need to ensure it can read spaces, so put a space at the front as an argument (putting at the end will not work)."
   ]
  },
  {
   "cell_type": "code",
   "execution_count": 23,
   "id": "0bbb1f34-bd85-47f0-9337-1a29bf70a0d5",
   "metadata": {},
   "outputs": [
    {
     "data": {
      "image/png": "[encoded data removed]",
      "text/plain": [
       "<PIL.PngImagePlugin.PngImageFile image mode=RGBA size=379x71>"
      ]
     },
     "metadata": {},
     "output_type": "display_data"
    }
   ],
   "source": [
    "path = '../../../../binder-datasets/ocr/helloworld/hello_world_english.png'\n",
    "im = Image.open(path)\n",
    "display(im)"
   ]
  },
  {
   "cell_type": "code",
   "execution_count": 44,
   "id": "5241c0f0-958e-47c7-b8b0-cff40a0223dc",
   "metadata": {},
   "outputs": [
    {
     "name": "stdout",
     "output_type": "stream",
     "text": [
      "Hello World!\n",
      "\f\n",
      "\n"
     ]
    }
   ],
   "source": [
    "allowlist = ' abcdefghijklmnopqrstuvwxyzABCDEFGHIJKLMNOPQRSTUVWXYZ'\n",
    "print(pytesseract.image_to_string(im, config='-c tessedit_char_whitelist=' + allowlist))"
   ]
  },
  {
   "attachments": {},
   "cell_type": "markdown",
   "id": "dba44bd5-be76-48f8-a967-7a097ab5b212",
   "metadata": {},
   "source": [
    "## nice\n",
    "\n",
    "The **nice** command refers to Unix systems niceness. Niceness means that processes have a number to determine their priority for the CPU. A high number means the process is nice and has a lower priority for the CPU and a low or negative number means the process is not very nice and it wants to get as much of the CPU as possible. The nice value range is -20 to +19 where -20 is highest, 0 default and +19 is lowest.\n",
    "\n",
    "I usually keep this at the default (0). There may be very specific use cases where you need this value, but I have not come across them."
   ]
  },
  {
   "attachments": {},
   "cell_type": "markdown",
   "id": "53853766-6064-4926-854f-3d5a1d2b2b0c",
   "metadata": {},
   "source": [
    "## output_type\n",
    "\n",
    "The output_type comes in a few flavors, with the default being ```string```:\n",
    "```python\n",
    "    BYTES = 'bytes'\n",
    "    DATAFRAME = 'data.frame'\n",
    "    DICT = 'dict'\n",
    "    STRING = 'string'\n",
    "```"
   ]
  },
  {
   "attachments": {},
   "cell_type": "markdown",
   "id": "6741e735-6aff-4e08-ae6f-892304898666",
   "metadata": {},
   "source": [
    "### dict\n",
    "\n",
    "The ```dict``` type returns in key-value pairs. It is particularly useful when determining things such as orientation."
   ]
  },
  {
   "cell_type": "code",
   "execution_count": 70,
   "id": "e2c7409e-e451-4365-8d85-13a0c6b474b4",
   "metadata": {},
   "outputs": [
    {
     "data": {
      "image/png": "[encoded data removed]",
      "text/plain": [
       "<PIL.Image.Image image mode=RGB size=372x526>"
      ]
     },
     "metadata": {},
     "output_type": "display_data"
    }
   ],
   "source": [
    "path = '../../../../binder-datasets/ocr/images/invoice_rotated.png'\n",
    "im = Image.open(path)\n",
    "display(im.resize(int(0.3*s) for s in im.size))"
   ]
  },
  {
   "cell_type": "code",
   "execution_count": 94,
   "id": "2ca8099d-f465-44f7-99ca-725d64fa827f",
   "metadata": {},
   "outputs": [
    {
     "name": "stdout",
     "output_type": "stream",
     "text": [
      "{'page_num': 0, 'orientation': 180, 'rotate': 180, 'orientation_conf': 12.51, 'script': 'Latin', 'script_conf': 5.09}\n",
      "The image orientation is: 180 degrees. To fix - rotate by 180 degrees\n"
     ]
    }
   ],
   "source": [
    "osd = pytesseract.image_to_osd(im, output_type='dict')\n",
    "print(osd)\n",
    "orientation = osd['orientation']\n",
    "rotate = osd['rotate']\n",
    "print(f'The image orientation is: {orientation} degrees. To fix - rotate by {rotate} degrees')"
   ]
  },
  {
   "attachments": {},
   "cell_type": "markdown",
   "id": "c85ea16f-882a-4310-a0dc-59101f51a623",
   "metadata": {},
   "source": [
    "## data.frame\n",
    "\n",
    "The dataframe output is compatiable with the [pandas library](https://pandas.pydata.org/), and can print tables nicely. For example, the tables produced by ```image_to_data```."
   ]
  },
  {
   "cell_type": "code",
   "execution_count": 93,
   "id": "ac6290a2-38d8-47af-b8ad-1f14a568393f",
   "metadata": {},
   "outputs": [
    {
     "data": {
      "text/html": [
       "<div>\n",
       "<style scoped>\n",
       "    .dataframe tbody tr th:only-of-type {\n",
       "        vertical-align: middle;\n",
       "    }\n",
       "\n",
       "    .dataframe tbody tr th {\n",
       "        vertical-align: top;\n",
       "    }\n",
       "\n",
       "    .dataframe thead th {\n",
       "        text-align: right;\n",
       "    }\n",
       "</style>\n",
       "<table border=\"1\" class=\"dataframe\">\n",
       "  <thead>\n",
       "    <tr style=\"text-align: right;\">\n",
       "      <th></th>\n",
       "      <th>level</th>\n",
       "      <th>page_num</th>\n",
       "      <th>block_num</th>\n",
       "      <th>par_num</th>\n",
       "      <th>line_num</th>\n",
       "      <th>word_num</th>\n",
       "      <th>left</th>\n",
       "      <th>top</th>\n",
       "      <th>width</th>\n",
       "      <th>height</th>\n",
       "      <th>conf</th>\n",
       "      <th>text</th>\n",
       "    </tr>\n",
       "  </thead>\n",
       "  <tbody>\n",
       "    <tr>\n",
       "      <th>0</th>\n",
       "      <td>1</td>\n",
       "      <td>1</td>\n",
       "      <td>0</td>\n",
       "      <td>0</td>\n",
       "      <td>0</td>\n",
       "      <td>0</td>\n",
       "      <td>0</td>\n",
       "      <td>0</td>\n",
       "      <td>1241</td>\n",
       "      <td>1754</td>\n",
       "      <td>-1</td>\n",
       "      <td>NaN</td>\n",
       "    </tr>\n",
       "    <tr>\n",
       "      <th>1</th>\n",
       "      <td>2</td>\n",
       "      <td>1</td>\n",
       "      <td>1</td>\n",
       "      <td>0</td>\n",
       "      <td>0</td>\n",
       "      <td>0</td>\n",
       "      <td>117</td>\n",
       "      <td>731</td>\n",
       "      <td>3</td>\n",
       "      <td>365</td>\n",
       "      <td>-1</td>\n",
       "      <td>NaN</td>\n",
       "    </tr>\n",
       "    <tr>\n",
       "      <th>2</th>\n",
       "      <td>3</td>\n",
       "      <td>1</td>\n",
       "      <td>1</td>\n",
       "      <td>1</td>\n",
       "      <td>0</td>\n",
       "      <td>0</td>\n",
       "      <td>117</td>\n",
       "      <td>731</td>\n",
       "      <td>3</td>\n",
       "      <td>365</td>\n",
       "      <td>-1</td>\n",
       "      <td>NaN</td>\n",
       "    </tr>\n",
       "    <tr>\n",
       "      <th>3</th>\n",
       "      <td>4</td>\n",
       "      <td>1</td>\n",
       "      <td>1</td>\n",
       "      <td>1</td>\n",
       "      <td>1</td>\n",
       "      <td>0</td>\n",
       "      <td>117</td>\n",
       "      <td>731</td>\n",
       "      <td>3</td>\n",
       "      <td>365</td>\n",
       "      <td>-1</td>\n",
       "      <td>NaN</td>\n",
       "    </tr>\n",
       "    <tr>\n",
       "      <th>4</th>\n",
       "      <td>5</td>\n",
       "      <td>1</td>\n",
       "      <td>1</td>\n",
       "      <td>1</td>\n",
       "      <td>1</td>\n",
       "      <td>1</td>\n",
       "      <td>117</td>\n",
       "      <td>731</td>\n",
       "      <td>3</td>\n",
       "      <td>365</td>\n",
       "      <td>95</td>\n",
       "      <td></td>\n",
       "    </tr>\n",
       "    <tr>\n",
       "      <th>5</th>\n",
       "      <td>2</td>\n",
       "      <td>1</td>\n",
       "      <td>2</td>\n",
       "      <td>0</td>\n",
       "      <td>0</td>\n",
       "      <td>0</td>\n",
       "      <td>130</td>\n",
       "      <td>203</td>\n",
       "      <td>219</td>\n",
       "      <td>94</td>\n",
       "      <td>-1</td>\n",
       "      <td>NaN</td>\n",
       "    </tr>\n",
       "    <tr>\n",
       "      <th>6</th>\n",
       "      <td>3</td>\n",
       "      <td>1</td>\n",
       "      <td>2</td>\n",
       "      <td>1</td>\n",
       "      <td>0</td>\n",
       "      <td>0</td>\n",
       "      <td>130</td>\n",
       "      <td>203</td>\n",
       "      <td>219</td>\n",
       "      <td>94</td>\n",
       "      <td>-1</td>\n",
       "      <td>NaN</td>\n",
       "    </tr>\n",
       "    <tr>\n",
       "      <th>7</th>\n",
       "      <td>4</td>\n",
       "      <td>1</td>\n",
       "      <td>2</td>\n",
       "      <td>1</td>\n",
       "      <td>1</td>\n",
       "      <td>0</td>\n",
       "      <td>131</td>\n",
       "      <td>203</td>\n",
       "      <td>154</td>\n",
       "      <td>22</td>\n",
       "      <td>-1</td>\n",
       "      <td>NaN</td>\n",
       "    </tr>\n",
       "    <tr>\n",
       "      <th>8</th>\n",
       "      <td>5</td>\n",
       "      <td>1</td>\n",
       "      <td>2</td>\n",
       "      <td>1</td>\n",
       "      <td>1</td>\n",
       "      <td>1</td>\n",
       "      <td>131</td>\n",
       "      <td>203</td>\n",
       "      <td>154</td>\n",
       "      <td>22</td>\n",
       "      <td>96</td>\n",
       "      <td>Document</td>\n",
       "    </tr>\n",
       "    <tr>\n",
       "      <th>9</th>\n",
       "      <td>4</td>\n",
       "      <td>1</td>\n",
       "      <td>2</td>\n",
       "      <td>1</td>\n",
       "      <td>2</td>\n",
       "      <td>0</td>\n",
       "      <td>131</td>\n",
       "      <td>236</td>\n",
       "      <td>218</td>\n",
       "      <td>28</td>\n",
       "      <td>-1</td>\n",
       "      <td>NaN</td>\n",
       "    </tr>\n",
       "    <tr>\n",
       "      <th>10</th>\n",
       "      <td>5</td>\n",
       "      <td>1</td>\n",
       "      <td>2</td>\n",
       "      <td>1</td>\n",
       "      <td>2</td>\n",
       "      <td>1</td>\n",
       "      <td>131</td>\n",
       "      <td>236</td>\n",
       "      <td>218</td>\n",
       "      <td>28</td>\n",
       "      <td>96</td>\n",
       "      <td>Understanding</td>\n",
       "    </tr>\n",
       "    <tr>\n",
       "      <th>11</th>\n",
       "      <td>4</td>\n",
       "      <td>1</td>\n",
       "      <td>2</td>\n",
       "      <td>1</td>\n",
       "      <td>3</td>\n",
       "      <td>0</td>\n",
       "      <td>130</td>\n",
       "      <td>270</td>\n",
       "      <td>141</td>\n",
       "      <td>27</td>\n",
       "      <td>-1</td>\n",
       "      <td>NaN</td>\n",
       "    </tr>\n",
       "    <tr>\n",
       "      <th>12</th>\n",
       "      <td>5</td>\n",
       "      <td>1</td>\n",
       "      <td>2</td>\n",
       "      <td>1</td>\n",
       "      <td>3</td>\n",
       "      <td>1</td>\n",
       "      <td>130</td>\n",
       "      <td>270</td>\n",
       "      <td>141</td>\n",
       "      <td>27</td>\n",
       "      <td>96</td>\n",
       "      <td>Company</td>\n",
       "    </tr>\n",
       "    <tr>\n",
       "      <th>13</th>\n",
       "      <td>2</td>\n",
       "      <td>1</td>\n",
       "      <td>3</td>\n",
       "      <td>0</td>\n",
       "      <td>0</td>\n",
       "      <td>0</td>\n",
       "      <td>350</td>\n",
       "      <td>171</td>\n",
       "      <td>154</td>\n",
       "      <td>156</td>\n",
       "      <td>-1</td>\n",
       "      <td>NaN</td>\n",
       "    </tr>\n",
       "    <tr>\n",
       "      <th>14</th>\n",
       "      <td>3</td>\n",
       "      <td>1</td>\n",
       "      <td>3</td>\n",
       "      <td>1</td>\n",
       "      <td>0</td>\n",
       "      <td>0</td>\n",
       "      <td>350</td>\n",
       "      <td>171</td>\n",
       "      <td>154</td>\n",
       "      <td>156</td>\n",
       "      <td>-1</td>\n",
       "      <td>NaN</td>\n",
       "    </tr>\n",
       "  </tbody>\n",
       "</table>\n",
       "</div>"
      ],
      "text/plain": [
       "    level  page_num  block_num  par_num  line_num  word_num  left  top  width   \n",
       "0       1         1          0        0         0         0     0    0   1241  \\\n",
       "1       2         1          1        0         0         0   117  731      3   \n",
       "2       3         1          1        1         0         0   117  731      3   \n",
       "3       4         1          1        1         1         0   117  731      3   \n",
       "4       5         1          1        1         1         1   117  731      3   \n",
       "5       2         1          2        0         0         0   130  203    219   \n",
       "6       3         1          2        1         0         0   130  203    219   \n",
       "7       4         1          2        1         1         0   131  203    154   \n",
       "8       5         1          2        1         1         1   131  203    154   \n",
       "9       4         1          2        1         2         0   131  236    218   \n",
       "10      5         1          2        1         2         1   131  236    218   \n",
       "11      4         1          2        1         3         0   130  270    141   \n",
       "12      5         1          2        1         3         1   130  270    141   \n",
       "13      2         1          3        0         0         0   350  171    154   \n",
       "14      3         1          3        1         0         0   350  171    154   \n",
       "\n",
       "    height  conf           text  \n",
       "0     1754    -1            NaN  \n",
       "1      365    -1            NaN  \n",
       "2      365    -1            NaN  \n",
       "3      365    -1            NaN  \n",
       "4      365    95                 \n",
       "5       94    -1            NaN  \n",
       "6       94    -1            NaN  \n",
       "7       22    -1            NaN  \n",
       "8       22    96       Document  \n",
       "9       28    -1            NaN  \n",
       "10      28    96  Understanding  \n",
       "11      27    -1            NaN  \n",
       "12      27    96        Company  \n",
       "13     156    -1            NaN  \n",
       "14     156    -1            NaN  "
      ]
     },
     "execution_count": 93,
     "metadata": {},
     "output_type": "execute_result"
    }
   ],
   "source": [
    "im_fixed = im.copy()\n",
    "im_fixed = im_fixed.rotate(rotate) # since we know orientation is off\n",
    "df = pytesseract.image_to_data(im_fixed, output_type='data.frame')\n",
    "df.head(15)"
   ]
  },
  {
   "attachments": {},
   "cell_type": "markdown",
   "id": "108d9dd0-8c94-494f-8766-1cf103040e40",
   "metadata": {},
   "source": [
    "## pandas_config\n",
    "\n",
    "On the topic of dataframes, we can customize the output to meet our needs. It follows [pandas.read_csv](https://pandas.pydata.org/pandas-docs/stable/reference/api/pandas.read_csv.html#pandas-read-csv) and is passed as a ```dict```\n",
    "\n",
    "The below example is a use case of just generating a dataframe with filled text and the page number the text is found on."
   ]
  },
  {
   "cell_type": "code",
   "execution_count": 84,
   "id": "754ac6ed-b585-4860-8632-711d3ee040d3",
   "metadata": {},
   "outputs": [
    {
     "data": {
      "text/html": [
       "<div>\n",
       "<style scoped>\n",
       "    .dataframe tbody tr th:only-of-type {\n",
       "        vertical-align: middle;\n",
       "    }\n",
       "\n",
       "    .dataframe tbody tr th {\n",
       "        vertical-align: top;\n",
       "    }\n",
       "\n",
       "    .dataframe thead th {\n",
       "        text-align: right;\n",
       "    }\n",
       "</style>\n",
       "<table border=\"1\" class=\"dataframe\">\n",
       "  <thead>\n",
       "    <tr style=\"text-align: right;\">\n",
       "      <th></th>\n",
       "      <th>page_num</th>\n",
       "      <th>text</th>\n",
       "    </tr>\n",
       "  </thead>\n",
       "  <tbody>\n",
       "    <tr>\n",
       "      <th>8</th>\n",
       "      <td>1</td>\n",
       "      <td>Document</td>\n",
       "    </tr>\n",
       "    <tr>\n",
       "      <th>10</th>\n",
       "      <td>1</td>\n",
       "      <td>Understanding</td>\n",
       "    </tr>\n",
       "    <tr>\n",
       "      <th>12</th>\n",
       "      <td>1</td>\n",
       "      <td>Company</td>\n",
       "    </tr>\n",
       "    <tr>\n",
       "      <th>20</th>\n",
       "      <td>1</td>\n",
       "      <td>123</td>\n",
       "    </tr>\n",
       "    <tr>\n",
       "      <th>21</th>\n",
       "      <td>1</td>\n",
       "      <td>Fake</td>\n",
       "    </tr>\n",
       "    <tr>\n",
       "      <th>22</th>\n",
       "      <td>1</td>\n",
       "      <td>Street</td>\n",
       "    </tr>\n",
       "    <tr>\n",
       "      <th>24</th>\n",
       "      <td>1</td>\n",
       "      <td>ExampleTown,</td>\n",
       "    </tr>\n",
       "    <tr>\n",
       "      <th>25</th>\n",
       "      <td>1</td>\n",
       "      <td>USA</td>\n",
       "    </tr>\n",
       "    <tr>\n",
       "      <th>26</th>\n",
       "      <td>1</td>\n",
       "      <td>01234</td>\n",
       "    </tr>\n",
       "    <tr>\n",
       "      <th>30</th>\n",
       "      <td>1</td>\n",
       "      <td>Phone:</td>\n",
       "    </tr>\n",
       "    <tr>\n",
       "      <th>31</th>\n",
       "      <td>1</td>\n",
       "      <td>(800)</td>\n",
       "    </tr>\n",
       "    <tr>\n",
       "      <th>32</th>\n",
       "      <td>1</td>\n",
       "      <td>123-4567</td>\n",
       "    </tr>\n",
       "    <tr>\n",
       "      <th>33</th>\n",
       "      <td>1</td>\n",
       "      <td>email:</td>\n",
       "    </tr>\n",
       "    <tr>\n",
       "      <th>34</th>\n",
       "      <td>1</td>\n",
       "      <td>info@example.com</td>\n",
       "    </tr>\n",
       "    <tr>\n",
       "      <th>38</th>\n",
       "      <td>1</td>\n",
       "      <td>http://example.com</td>\n",
       "    </tr>\n",
       "  </tbody>\n",
       "</table>\n",
       "</div>"
      ],
      "text/plain": [
       "    page_num                text\n",
       "8          1            Document\n",
       "10         1       Understanding\n",
       "12         1             Company\n",
       "20         1                 123\n",
       "21         1                Fake\n",
       "22         1              Street\n",
       "24         1        ExampleTown,\n",
       "25         1                 USA\n",
       "26         1               01234\n",
       "30         1              Phone:\n",
       "31         1               (800)\n",
       "32         1            123-4567\n",
       "33         1              email:\n",
       "34         1    info@example.com\n",
       "38         1  http://example.com"
      ]
     },
     "execution_count": 84,
     "metadata": {},
     "output_type": "execute_result"
    }
   ],
   "source": [
    "pandas_config = {'usecols': ['page_num', 'text'], 'na_values': [' ']}\n",
    "df = pytesseract.image_to_data(im_fixed, output_type='data.frame', pandas_config=pandas_config).dropna()\n",
    "df.head(15)"
   ]
  },
  {
   "attachments": {},
   "cell_type": "markdown",
   "id": "88f3c48a-c8a0-46f5-8010-330de0ca7ffc",
   "metadata": {},
   "source": [
    "## timeout\n",
    "\n",
    "While this is not required for batch processing, it may be a good idea to add handling to terminate Tesseract if processing is taking too long. Let's try two scenarios, one where we timeout after 1 second and one where we wait 30 seconds to timeout. In this case, 1 second is not enough time to process both images."
   ]
  },
  {
   "cell_type": "code",
   "execution_count": 86,
   "id": "fe061f89-8c1a-4756-8e13-6ee31b92ed88",
   "metadata": {},
   "outputs": [
    {
     "name": "stdout",
     "output_type": "stream",
     "text": [
      "Not enough time to extract text!\n"
     ]
    }
   ],
   "source": [
    "timeout=1\n",
    "try:\n",
    "    print(pytesseract.image_to_string(im_fixed, timeout=timeout))\n",
    "except RuntimeError as timeout_error:\n",
    "    print('Not enough time to extract text!')\n",
    "    pass"
   ]
  },
  {
   "cell_type": "code",
   "execution_count": 87,
   "id": "771f9e3b-a537-4050-976a-3fbaeac01be6",
   "metadata": {},
   "outputs": [
    {
     "name": "stdout",
     "output_type": "stream",
     "text": [
      " \n",
      "\n",
      "Document\n",
      "Understanding\n",
      "Company\n",
      "\n",
      " \n",
      "\n",
      "123 Fake Street\n",
      "ExampleTown, USA 01234\n",
      "\n",
      "Phone: (800) 123-4567 email: info@example.com\n",
      "\n",
      "http://example.com\n",
      "\n",
      "Bill To: Addressee\n",
      "\n",
      "Address Line 1\n",
      "Address Line 2\n",
      "City, State, ZIP, Country, Planet, Etc.\n",
      "\n",
      "Date: January 1, 2023\n",
      "\n",
      "Invoice No.: 4\n",
      "\n",
      " \n",
      "\n",
      " \n",
      "\n",
      " \n",
      "\n",
      " \n",
      "\n",
      " \n",
      "\n",
      " \n",
      "\n",
      " \n",
      "\n",
      " \n",
      "\n",
      " \n",
      "\n",
      " \n",
      "\n",
      " \n",
      "\n",
      " \n",
      "\n",
      " \n",
      "\n",
      " \n",
      "\n",
      " \n",
      "\n",
      " \n",
      "\n",
      " \n",
      "\n",
      "Date Work Description Qty. Hours | Hourly Rate Line Total\n",
      "12/30/22 Line Item 1 2.00 200.00 400.00\n",
      "Line Item 2 125.00)\n",
      "Total: 525.00\n",
      "\n",
      " \n",
      "\n",
      " \n",
      "\f\n",
      "\n"
     ]
    }
   ],
   "source": [
    "timeout=10\n",
    "try:\n",
    "    print(pytesseract.image_to_string(im_fixed, timeout=timeout))\n",
    "except RuntimeError as timeout_error:\n",
    "    print('Not enough time to extract text!')\n",
    "    pass"
   ]
  },
  {
   "cell_type": "code",
   "execution_count": null,
   "id": "e4c4a480-02ad-46ac-a2f3-c873a111f844",
   "metadata": {},
   "outputs": [],
   "source": []
  }
 ],
 "metadata": {
  "kernelspec": {
   "display_name": "Python 3 (ipykernel)",
   "language": "python",
   "name": "python3"
  },
  "language_info": {
   "codemirror_mode": {
    "name": "ipython",
    "version": 3
   },
   "file_extension": ".py",
   "mimetype": "text/x-python",
   "name": "python",
   "nbconvert_exporter": "python",
   "pygments_lexer": "ipython3",
   "version": "3.10.6"
  }
 },
 "nbformat": 4,
 "nbformat_minor": 5
}
