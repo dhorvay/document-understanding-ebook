{
 "cells": [
  {
   "cell_type": "markdown",
   "id": "f93d1d58-6069-4d71-8062-c3c83902829a",
   "metadata": {},
   "source": [
    "# Python Tesseract (pytesseract) Batch Processing Example\n",
    "\n",
    "This notebook covers batch processing with pytesseract."
   ]
  },
  {
   "cell_type": "code",
   "execution_count": 1,
   "id": "c62a1bc7-80f5-4077-8d22-fe3677382785",
   "metadata": {},
   "outputs": [],
   "source": [
    "import pytesseract"
   ]
  },
  {
   "cell_type": "markdown",
   "id": "6e8d3c7e-5a8a-49f7-a98b-7d04bd7d6fa7",
   "metadata": {},
   "source": [
    "## Batch File\n",
    "\n",
    "You can process a batch of files by providing a text file with the relative image paths (relative meaning to where the script is running).\n",
    "Here, I am providing a text file with two image paths."
   ]
  },
  {
   "cell_type": "code",
   "execution_count": 2,
   "id": "9b33e6ac-fdce-4233-9b8d-3069d1f8e474",
   "metadata": {},
   "outputs": [
    {
     "name": "stdout",
     "output_type": "stream",
     "text": [
      "../../../binder-datasets/ocr/images/invoice.png\n",
      "../../../binder-datasets/ocr/images/letter.jpg\n"
     ]
    }
   ],
   "source": [
    "batch_file_path = \"../../../binder-datasets/ocr/batch/images.txt\"\n",
    "with open(batch_file_path) as f:\n",
    "    print(f.read())"
   ]
  },
  {
   "cell_type": "markdown",
   "id": "2e500f14-1015-4bd7-b56d-2f3e004bd420",
   "metadata": {},
   "source": [
    "## Timeouts\n",
    "\n",
    "While this is not required for batch processing, it may be a good idea to add handling to terminate Tesseract if processing is taking too long. Let's try two scenarios, one where we timeout after 1 second and one where we wait 10 seconds to timeout. In this case, 1 second is not enough time to process both images."
   ]
  },
  {
   "cell_type": "code",
   "execution_count": 3,
   "id": "f01f5337-82d1-411b-a569-1d375d3fa286",
   "metadata": {},
   "outputs": [],
   "source": [
    "timeout = 1"
   ]
  },
  {
   "cell_type": "code",
   "execution_count": 4,
   "id": "437bbada-9d50-4cf4-beb6-9b2973dc18c0",
   "metadata": {},
   "outputs": [],
   "source": [
    "try:\n",
    "    print(pytesseract.image_to_string(batch_file_path, timeout=timeout))\n",
    "except RuntimeError as timeout_error:\n",
    "    pass"
   ]
  },
  {
   "cell_type": "code",
   "execution_count": 5,
   "id": "5705b75e-44f8-4096-8a44-fc44df3c1448",
   "metadata": {},
   "outputs": [],
   "source": [
    "timeout = 10"
   ]
  },
  {
   "cell_type": "code",
   "execution_count": 6,
   "id": "d7ca3072-e8ca-4231-a799-7326b0c45ba1",
   "metadata": {},
   "outputs": [
    {
     "name": "stdout",
     "output_type": "stream",
     "text": [
      " \n",
      "\n",
      "Document\n",
      "Understanding\n",
      "Company\n",
      "\n",
      " \n",
      "\n",
      "123 Fake Street\n",
      "ExampleTown, USA 01234\n",
      "\n",
      "Phone: (800) 123-4567 email: info@example.com\n",
      "\n",
      "http://example.com\n",
      "\n",
      "Bill To: Addressee\n",
      "\n",
      "Address Line 1\n",
      "Address Line 2\n",
      "\n",
      "City, State, ZIP, Country, Planet, Etc.\n",
      "\n",
      "Date: January 1, 2023\n",
      "\n",
      "Invoice No.: >4\n",
      "\n",
      " \n",
      "\n",
      " \n",
      "\n",
      " \n",
      "\n",
      " \n",
      "\n",
      " \n",
      "\n",
      " \n",
      "\n",
      " \n",
      "\n",
      " \n",
      "\n",
      " \n",
      "\n",
      " \n",
      "\n",
      " \n",
      "\n",
      " \n",
      "\n",
      " \n",
      "\n",
      " \n",
      "\n",
      " \n",
      "\n",
      " \n",
      "\n",
      " \n",
      "\n",
      "Date Work Description Qty. Hours | Hourly Rate Line Total\n",
      "12/30/22 Line Item 1 2.00 200.00 400.00\n",
      "Line Item 2 125.00:\n",
      "Total: 525.00\n",
      "\n",
      " \n",
      "\n",
      " \n",
      "\f",
      "An Open Letter to Technology Enthusiasts\n",
      "\n",
      "I hope this letter finds you well, as I write to you with utmost excitement and a touch of\n",
      "concern about the future of our vibrant community. Today, I wish to share some thoughts that have\n",
      "been brewing in my mind, echoing the spirit of the iconic \"Open Letter to Hobbyists\" penned by\n",
      "one of our predecessors.\n",
      "\n",
      "In this age of rapid technological advancements, we find ourselves standing at the precipice\n",
      "of endless possibilities. The boundless potential of innovation lies within our grasp, waiting to be\n",
      "harnessed for the betterment of society. It is a time that demands collaboration, imagination, and the\n",
      "shared pursuit of knowledge.\n",
      "\n",
      "However, I feel compelled to express a concern that has been gnawing at me. Our shared\n",
      "passion for technology, which unites us as a community, is threatened by a growing tendency to\n",
      "dismiss the value of intellectual property and the creative efforts it represents. We are witnessing a\n",
      "proliferation of digital creations being copied, altered, and distributed without due consideration for\n",
      "the rights and efforts of their creators.\n",
      "\n",
      "Let us remember that innovation thrives on the foundation of respect for the rights of those\n",
      "_who dare to dream and build. It is the creators who invest countless hours, driven by their visions\n",
      "and fueled by their relentless dedication, to breathe life into ideas that shape our future. Their work,\n",
      "their passion, and their right to benefit from their creations must be protected and valued.\n",
      "\n",
      "Let us not be misguided by the allure of free access to everything. Instead, let us advocate\n",
      "for fair and reasonable means of sharing knowledge and creations, nurturing a culture of\n",
      "appreciation and support for those who drive progress. By doing so, we cultivate an environment\n",
      "that attracts new talent, encourages groundbreaking discoveries, and ultimately benefits society as a\n",
      "whole.\n",
      "\n",
      "Imagine a world where the tireless inventors and creators are celebrated and their work is\n",
      "protected. A world where collaboration flourishes, innovation abounds, and the spirit of\n",
      "technological exploration remains untamed. It is within our power to shape this future, and it begins\n",
      "with a collective acknowledgment of the importance of intellectual property and the contributions it\n",
      "brings to our ever-evolving world.\n",
      "\n",
      "In closing, I invite you to join me in a renewed commitment to respecting and protecting\n",
      "intellectual property. Let us create an inclusive community that champions the rights of creators,\n",
      "nurtures their creativity, and upholds the principles that have propelled humanity forward\n",
      "throughout history. Together, we can forge a future where the collective genius of the technology\n",
      "community thrives, and our achievements become a testament to our unity and unwavering\n",
      "dedication.\n",
      "\n",
      "With great optimism and faith in our shared endeavors,\n",
      "\n",
      "John Doe\n",
      "\f",
      "\n"
     ]
    }
   ],
   "source": [
    "try:\n",
    "    print(pytesseract.image_to_string(batch_file_path, timeout=timeout))\n",
    "except RuntimeError as timeout_error:\n",
    "    pass"
   ]
  }
 ],
 "metadata": {
  "kernelspec": {
   "display_name": "Python 3 (ipykernel)",
   "language": "python",
   "name": "python3"
  },
  "language_info": {
   "codemirror_mode": {
    "name": "ipython",
    "version": 3
   },
   "file_extension": ".py",
   "mimetype": "text/x-python",
   "name": "python",
   "nbconvert_exporter": "python",
   "pygments_lexer": "ipython3",
   "version": "3.10.6"
  }
 },
 "nbformat": 4,
 "nbformat_minor": 5
}
