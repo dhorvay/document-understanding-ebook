{
 "cells": [
  {
   "cell_type": "markdown",
   "id": "2bd33e7f-8212-4ed4-9086-c7e9a27dffa3",
   "metadata": {},
   "source": [
    "# Python Tesseract (pytesseract) Languages Example\n",
    "\n",
    "This notebook covers using multiple language models with pytesseract."
   ]
  },
  {
   "cell_type": "code",
   "execution_count": 1,
   "id": "e3c01be7-36b2-4ccf-8212-638986e33714",
   "metadata": {},
   "outputs": [],
   "source": [
    "from PIL import Image\n",
    "import pytesseract"
   ]
  },
  {
   "cell_type": "markdown",
   "id": "f8f173e0-4cdc-4111-9048-3cd22dab3506",
   "metadata": {},
   "source": [
    "## Ensure tessdata is installed\n",
    "\n",
    "Tesseract needs the TESSDATA_PREFIX environment variable to be set in order to find trained language data. All languages may not be preinstalled when you first install Tesseract. The best way I have found is to install tessdata directly through git.\n",
    "\n",
    "There are a few versions of tessdata you can install:\n",
    "* [tessdata](https://github.com/tesseract-ocr/tessdata) - Trained models with fast variant of the \"best\" LSTM models + legacy models. \n",
    "* [tessdata_fast](https://github.com/tesseract-ocr/tessdata_fast) - Fast integer versions of trained LSTM models \n",
    "* [tessdata_best](https://github.com/tesseract-ocr/tessdata_best) - Best (most accurate) trained LSTM models.  \n",
    "\n",
    "For my purposes, I will utilize ```tessdata_fast``` for this notebook.\n",
    "\n",
    "Steps to install (local machine):\n",
    "```sh\n",
    "git clone https://github.com/tesseract-ocr/tessdata_fast.git ~/.local/share/tesseract-ocr/4.00/tessdata_fast\n",
    "export TESSDATA_PREFIX=~/.local/share/tesseract-ocr/4.00/tessdata_fast\n",
    "```\n",
    "\n",
    "Steps to install ([kaggle.com](kaggle.com)):\n",
    "```sh\n",
    "git clone https://github.com/tesseract-ocr/tessdata_fast.git 2> /dev/null || (cd tessdata_fast; git pull)\n",
    "cp tessdata_fast/*.traineddata /usr/share/tesseract-ocr/4.00/tessdata/\n",
    "```\n",
    "For kaggle.com, the default path can be used - ```/usr/share/tesseract-ocr/4.00/tessdata/```\n",
    "\n",
    "Once this is done, we can try to extract text from multiple languages."
   ]
  },
  {
   "cell_type": "code",
   "execution_count": 2,
   "id": "3542e4ed-e2b2-4c6f-b351-b182de44323e",
   "metadata": {},
   "outputs": [
    {
     "name": "stdout",
     "output_type": "stream",
     "text": [
      "/home/devin/.local/share/tesseract-ocr/4.00/tessdata_fast\n"
     ]
    }
   ],
   "source": [
    "# For kaggle.com this will print empty. The package pytesseract will use the default path: /usr/share/tesseract-ocr/4.00/tessdata/\n",
    "!printenv TESSDATA_PREFIX"
   ]
  },
  {
   "cell_type": "markdown",
   "id": "70d6bc6f-fe5d-4c3a-a286-6eebf26f9abb",
   "metadata": {},
   "source": [
    "## List supported languages\n",
    "\n",
    "Tesseract supports more than 100 languages.\n",
    "\n",
    "Also see: [complete list of languages supported in different versions of Tesseract](https://tesseract-ocr.github.io/tessdoc/Data-Files-in-different-versions.html)"
   ]
  },
  {
   "cell_type": "code",
   "execution_count": 3,
   "id": "ca2d14e1-1bbf-4c87-b7ab-bd02c0ac2a77",
   "metadata": {},
   "outputs": [
    {
     "name": "stdout",
     "output_type": "stream",
     "text": [
      "['afr', 'amh', 'ara', 'asm', 'aze', 'aze_cyrl', 'bel', 'ben', 'bod', 'bos', 'bre', 'bul', 'cat', 'ceb', 'ces', 'chi_sim', 'chi_sim_vert', 'chi_tra', 'chi_tra_vert', 'chr', 'cos', 'cym', 'dan', 'deu', 'div', 'dzo', 'ell', 'eng', 'enm', 'epo', 'equ', 'est', 'eus', 'fao', 'fas', 'fil', 'fin', 'fra', 'frk', 'frm', 'fry', 'gla', 'gle', 'glg', 'grc', 'guj', 'hat', 'heb', 'hin', 'hrv', 'hun', 'hye', 'iku', 'ind', 'isl', 'ita', 'ita_old', 'jav', 'jpn', 'jpn_vert', 'kan', 'kat', 'kat_old', 'kaz', 'khm', 'kir', 'kmr', 'kor', 'kor_vert', 'lao', 'lat', 'lav', 'lit', 'ltz', 'mal', 'mar', 'mkd', 'mlt', 'mon', 'mri', 'msa', 'mya', 'nep', 'nld', 'nor', 'oci', 'ori', 'osd', 'pan', 'pol', 'por', 'pus', 'que', 'ron', 'rus', 'san', 'sin', 'slk', 'slv', 'snd', 'spa', 'spa_old', 'sqi', 'srp', 'srp_latn', 'sun', 'swa', 'swe', 'syr', 'tam', 'tat', 'tel', 'tgk', 'tha', 'tir', 'ton', 'tur', 'uig', 'ukr', 'urd', 'uzb', 'uzb_cyrl', 'vie', 'yid', 'yor']\n"
     ]
    }
   ],
   "source": [
    "print(pytesseract.get_languages(config='.'))"
   ]
  },
  {
   "cell_type": "markdown",
   "id": "b4c65d7a-90d9-4d01-98b6-d46747464cf7",
   "metadata": {},
   "source": [
    "## Testing\n",
    "\n",
    "Let's try testing with three languages: English, Spanish, and Chinese."
   ]
  },
  {
   "cell_type": "markdown",
   "id": "5bcd67d5-d4dd-4f0f-a065-98bd24fe6f44",
   "metadata": {},
   "source": [
    "### English"
   ]
  },
  {
   "cell_type": "code",
   "execution_count": 4,
   "id": "35170c01-b1d6-43ee-8b5b-5f0080f37e0e",
   "metadata": {},
   "outputs": [
    {
     "data": {
      "image/png": "[encoded data removed]",
      "text/plain": [
       "<PIL.PngImagePlugin.PngImageFile image mode=RGBA size=379x71>"
      ]
     },
     "metadata": {},
     "output_type": "display_data"
    }
   ],
   "source": [
    "eng_path = '../../../binder-datasets/ocr/helloworld/hello_world_english.png'\n",
    "eng_im = Image.open(eng_path)\n",
    "display(eng_im)"
   ]
  },
  {
   "cell_type": "code",
   "execution_count": 5,
   "id": "c92be14d-6edc-4081-b674-ffd01ea4dff8",
   "metadata": {},
   "outputs": [
    {
     "name": "stdout",
     "output_type": "stream",
     "text": [
      "Hello World!\n",
      "\f",
      "\n"
     ]
    }
   ],
   "source": [
    "output = pytesseract.image_to_string(eng_im,lang='eng')\n",
    "print(output)"
   ]
  },
  {
   "cell_type": "markdown",
   "id": "daa43f56-1507-45f9-96e1-8e231793cd48",
   "metadata": {},
   "source": [
    "### Spanish"
   ]
  },
  {
   "cell_type": "code",
   "execution_count": 6,
   "id": "85caef21-30a9-4eda-85cf-dfb851a95085",
   "metadata": {},
   "outputs": [
    {
     "data": {
      "image/png": "[encoded data removed]",
      "text/plain": [
       "<PIL.PngImagePlugin.PngImageFile image mode=RGBA size=419x74>"
      ]
     },
     "metadata": {},
     "output_type": "display_data"
    }
   ],
   "source": [
    "spa_path = '../../../binder-datasets/ocr/helloworld/hello_world_spanish.png'\n",
    "spa_im = Image.open(spa_path)\n",
    "display(spa_im)"
   ]
  },
  {
   "cell_type": "code",
   "execution_count": 7,
   "id": "c20c0de3-17a4-48a7-80af-3a7757d8a4b3",
   "metadata": {},
   "outputs": [
    {
     "name": "stdout",
     "output_type": "stream",
     "text": [
      "¡Hola Mundo!\n",
      "\f",
      "\n"
     ]
    }
   ],
   "source": [
    "output = pytesseract.image_to_string(spa_im,lang='spa')\n",
    "print(output)"
   ]
  },
  {
   "cell_type": "markdown",
   "id": "da22dd00-2b6e-4e82-b734-f03609919cda",
   "metadata": {},
   "source": [
    "### Chinese"
   ]
  },
  {
   "cell_type": "code",
   "execution_count": 8,
   "id": "b35ffc06-1bb9-4d7f-a079-10d4d7d968f0",
   "metadata": {},
   "outputs": [
    {
     "data": {
      "image/png": "[encoded data removed]",
      "text/plain": [
       "<PIL.PngImagePlugin.PngImageFile image mode=RGBA size=298x84>"
      ]
     },
     "metadata": {},
     "output_type": "display_data"
    }
   ],
   "source": [
    "chi_sim_path = '../../../binder-datasets/ocr/helloworld/hello_world_chinese.png'\n",
    "chi_sim_im = Image.open(chi_sim_path)\n",
    "display(chi_sim_im)"
   ]
  },
  {
   "cell_type": "code",
   "execution_count": 9,
   "id": "eb5cb67f-e668-481a-8d2c-590bd0218cc0",
   "metadata": {
    "scrolled": true
   },
   "outputs": [
    {
     "name": "stdout",
     "output_type": "stream",
     "text": [
      "你好世界 !\n",
      "\f",
      "\n"
     ]
    }
   ],
   "source": [
    "output = pytesseract.image_to_string(chi_sim_im,lang='chi_sim')\n",
    "print(output)"
   ]
  },
  {
   "cell_type": "markdown",
   "id": "e338e261-ef47-45c4-9c00-9d3fe4436912",
   "metadata": {},
   "source": [
    "## Multiple Languages\n",
    "\n",
    "Tesseract also supports multiple languages at once."
   ]
  },
  {
   "cell_type": "markdown",
   "id": "4f7cb9ef-2047-4d16-b8ea-1794ee284ad0",
   "metadata": {},
   "source": [
    "### English and French"
   ]
  },
  {
   "cell_type": "code",
   "execution_count": 10,
   "id": "89f65167-c5eb-4de4-8da9-7933b1038eae",
   "metadata": {},
   "outputs": [
    {
     "data": {
      "image/png": "[encoded data removed]",
      "text/plain": [
       "<PIL.PngImagePlugin.PngImageFile image mode=RGBA size=582x151>"
      ]
     },
     "metadata": {},
     "output_type": "display_data"
    }
   ],
   "source": [
    "eng_fra_path = '../../../binder-datasets/ocr/helloworld/hello_world_english_french.png'\n",
    "eng_fra_im = Image.open(eng_fra_path)\n",
    "display(eng_fra_im)"
   ]
  },
  {
   "cell_type": "code",
   "execution_count": 11,
   "id": "70436b50-1240-4acf-89fb-30f88c79d447",
   "metadata": {},
   "outputs": [
    {
     "name": "stdout",
     "output_type": "stream",
     "text": [
      "Hello World!\n",
      "Bonjour le monde!\n",
      "\f",
      "\n"
     ]
    }
   ],
   "source": [
    "output = pytesseract.image_to_string(eng_fra_im,lang='eng+fra')\n",
    "print(output)"
   ]
  }
 ],
 "metadata": {
  "kernelspec": {
   "display_name": "Python 3 (ipykernel)",
   "language": "python",
   "name": "python3"
  },
  "language_info": {
   "codemirror_mode": {
    "name": "ipython",
    "version": 3
   },
   "file_extension": ".py",
   "mimetype": "text/x-python",
   "name": "python",
   "nbconvert_exporter": "python",
   "pygments_lexer": "ipython3",
   "version": "3.10.6"
  }
 },
 "nbformat": 4,
 "nbformat_minor": 5
}
